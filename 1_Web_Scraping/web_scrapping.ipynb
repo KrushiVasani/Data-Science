{
 "cells": [
  {
   "cell_type": "code",
   "execution_count": 6,
   "id": "dbb5db4b-aa5b-4138-ad04-015046e14560",
   "metadata": {},
   "outputs": [],
   "source": [
    "from selenium import webdriver\n",
    "from bs4 import BeautifulSoup\n",
    "import pandas as pd\n"
   ]
  },
  {
   "cell_type": "code",
   "execution_count": 7,
   "id": "91b7e090-b5fd-4021-8965-8c710091ab0f",
   "metadata": {},
   "outputs": [],
   "source": [
    "import requests\n",
    "url=\"https://www.flipkart.com/search?q=laptop&sid=6bo%2Cb5g&as=on&as-show=on&otracker=AS_QueryStore_OrganicAutoSuggest_1_6_na_na_na&otracker1=AS_QueryStore_OrganicAutoSuggest_1_6_na_na_na&as-pos=1&as-type=RECENT&suggestionId=laptop%7CLaptops&requestId=7ec220e8-4f02-4150-9e0b-9e90cf692f4b&as-searchtext=laptop\"\n",
    "\n",
    "response = requests.get(url)\n",
    "\n",
    "htmlcontent = response.content\n",
    "\n",
    "soup = BeautifulSoup(htmlcontent,\"html.parser\")\n",
    "\n",
    "#print(soup.prettify)"
   ]
  },
  {
   "cell_type": "code",
   "execution_count": 8,
   "id": "1d54024f-e21b-45fe-97d3-92281a0793a9",
   "metadata": {},
   "outputs": [
    {
     "name": "stdout",
     "output_type": "stream",
     "text": [
      "acer Aspire 5 Core i5 11th Gen - (8 GB/512 GB SSD/Windows 10 Home) A515-56-5695 Thin and Light Laptop\n"
     ]
    }
   ],
   "source": [
    "products=[]\n",
    "\n",
    "prices=[]\n",
    "\n",
    "product=soup.find('div',attrs={'class':'_4rR01T'})\n",
    "\n",
    "print(product.text)"
   ]
  },
  {
   "cell_type": "code",
   "execution_count": 10,
   "id": "f3bb3807-5e38-4fcc-b41e-ed116b037798",
   "metadata": {},
   "outputs": [],
   "source": [
    "for a in soup.findAll('a',href=True, attrs={'class':'_1fQZEK'}):\n",
    "\n",
    "  name=a.find('div',attrs={'class':'_4rR01T'})\n",
    "\n",
    "  price=a.find('div',attrs={'class':'_30jeq3 _1_WHN1'})\n",
    "\n",
    "  products.append(name.text)\n",
    "\n",
    "  prices.append(price.text)\n",
    "\n",
    "  "
   ]
  },
  {
   "cell_type": "code",
   "execution_count": 11,
   "id": "f3f6682f-a784-48a4-b215-feb2381cf030",
   "metadata": {},
   "outputs": [],
   "source": [
    "df = pd.DataFrame({'Product Name':products,'Price':prices}) \n",
    "df.to_csv('18IT143_Krushi_Vasani.csv', index=False, encoding='utf-8')"
   ]
  },
  {
   "cell_type": "code",
   "execution_count": 41,
   "id": "7b8c9f73-f0a2-49a3-9ee9-6726f15936f2",
   "metadata": {},
   "outputs": [],
   "source": []
  },
  {
   "cell_type": "code",
   "execution_count": null,
   "id": "4e0cf67c-288d-4bb5-8af9-ba4ae4d79e3a",
   "metadata": {},
   "outputs": [],
   "source": []
  },
  {
   "cell_type": "code",
   "execution_count": null,
   "id": "f930d42a-7e93-468d-b20f-40c447dc5dfe",
   "metadata": {},
   "outputs": [],
   "source": [
    "\n",
    "\n"
   ]
  }
 ],
 "metadata": {
  "kernelspec": {
   "display_name": "Python 3",
   "language": "python",
   "name": "python3"
  },
  "language_info": {
   "codemirror_mode": {
    "name": "ipython",
    "version": 3
   },
   "file_extension": ".py",
   "mimetype": "text/x-python",
   "name": "python",
   "nbconvert_exporter": "python",
   "pygments_lexer": "ipython3",
   "version": "3.9.4"
  }
 },
 "nbformat": 4,
 "nbformat_minor": 5
}
